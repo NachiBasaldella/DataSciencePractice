{
  "nbformat": 4,
  "nbformat_minor": 0,
  "metadata": {
    "colab": {
      "provenance": [],
      "authorship_tag": "ABX9TyN7AoN9quzl918/d6Kpzr79",
      "include_colab_link": true
    },
    "kernelspec": {
      "name": "python3",
      "display_name": "Python 3"
    },
    "language_info": {
      "name": "python"
    }
  },
  "cells": [
    {
      "cell_type": "markdown",
      "metadata": {
        "id": "view-in-github",
        "colab_type": "text"
      },
      "source": [
        "<a href=\"https://colab.research.google.com/github/NachiBasaldella/DataSciencePractice/blob/main/APIsTwitter.ipynb\" target=\"_parent\"><img src=\"https://colab.research.google.com/assets/colab-badge.svg\" alt=\"Open In Colab\"/></a>"
      ]
    },
    {
      "cell_type": "code",
      "execution_count": 3,
      "metadata": {
        "colab": {
          "base_uri": "https://localhost:8080/",
          "height": 144
        },
        "id": "5wGDZPDXzCm5",
        "outputId": "3d7e39e7-73f3-4cab-9059-f5087ed48f7e"
      },
      "outputs": [
        {
          "output_type": "error",
          "ename": "IndentationError",
          "evalue": "unindent does not match any outer indentation level (<tokenize>, line 37)",
          "traceback": [
            "\u001b[0;36m  File \u001b[0;32m\"<tokenize>\"\u001b[0;36m, line \u001b[0;32m37\u001b[0m\n\u001b[0;31m    except BaseException as e:\u001b[0m\n\u001b[0m    ^\u001b[0m\n\u001b[0;31mIndentationError\u001b[0m\u001b[0;31m:\u001b[0m unindent does not match any outer indentation level\n"
          ]
        }
      ],
      "source": [
        "pip install  https://github.com/tweepy/tweepy.git\n",
        "\n",
        "import tweetpy\n",
        "import pandas as pd\n",
        "\n",
        "#consumer_key = \"************\"\n",
        "#Your API/Consumer key\n",
        "#consumer_secret = \"*********\"\n",
        "#Your API/Consumer Secret Key\n",
        "#access_token = \"***********\"\n",
        "#Your Access token key\n",
        "#access_token_secret = \"*************\"\n",
        "#Your Access token Secret key\n",
        "#Pass in our twitter API authentication key\n",
        "  auth = tweepy.OAuth1UserHandler(\n",
        "      consumer_key, consumer_secret,\n",
        "      access_token, access_token_secret )\n",
        "\n",
        "#Instantiate the tweepy API\n",
        "  api = tweepy.API(auth, wait_on_rate_limit=True)\n",
        "\n",
        "  search_query = \"'ref''world cup'-filter:retweets AND -filter:replies AND -filter:links\"\n",
        "  no_of_tweets = 100\n",
        "\n",
        "try:\n",
        "    #The number of tweets we want to retrieved from the search\n",
        "    tweets = api.search_tweets(q=search_query, lang=\"en\", count=no_of_tweets, tweet_mode ='extended')\n",
        "\n",
        "    #Pulling Some attributes from the tweet\n",
        "    attributes_container = [[tweet.user.name, tweet.created_at, tweet.favorite_count, tweet.source, tweet.full_text] for tweet in tweets]\n",
        "\n",
        "    #Creation of column list to rename the columns in the dataframe\n",
        "    columns = [\"User\", \"Date Created\", \"Number of Likes\", \"Source of Tweet\", \"Tweet\"]\n",
        "\n",
        "    #Creation of Dataframe\n",
        "    tweets_df = pd.DataFrame(attributes_container, columns=columns)\n",
        "  except BaseException as e:\n",
        "    print('Status Failed On,',str(e))\n",
        "\n",
        "\n",
        "\n",
        "####toda la data en tablas y para descargar el archivo con cvs\n",
        "\n",
        "from google.colab import files\n",
        "tweets_df.to_csv ('tweets.csv')\n",
        "files.download ('tweets.csv')\n"
      ]
    }
  ]
}